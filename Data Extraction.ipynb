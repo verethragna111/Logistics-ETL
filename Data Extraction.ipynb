{
 "cells": [
  {
   "cell_type": "code",
   "execution_count": 0,
   "metadata": {
    "application/vnd.databricks.v1+cell": {
     "cellMetadata": {
      "byteLimit": 2048000,
      "rowLimit": 10000
     },
     "inputWidgets": {},
     "nuid": "18650b9a-b5ec-4df9-a82d-01149574516e",
     "showTitle": false,
     "tableResultSettingsMap": {},
     "title": ""
    }
   },
   "outputs": [],
   "source": [
    "%python\n",
    "spark.conf.set(\"fs.azure.account.auth.type.datawarehouse11.dfs.core.windows.net\", \"SAS\")\n",
    "spark.conf.set(\"fs.azure.sas.token.provider.type.datawarehouse11.dfs.core.windows.net\", \"org.apache.hadoop.fs.azurebfs.sas.FixedSASTokenProvider\")\n",
    "spark.conf.set(\"fs.azure.sas.fixed.token.datawarehouse11.dfs.core.windows.net\", \"sv=2022-11-02&ss=bfqt&srt=sco&sp=rwdlacupiytfx&se=2025-03-12T03:18:46Z&st=2025-03-11T19:18:46Z&spr=https&sig=d6JLH8JNJ7BLcvYkjFkHKK%2Ftb04X%2BA6sq6kw9bbj%2BTk%3D\")\n",
    "\n",
    "\n"
   ]
  },
  {
   "cell_type": "markdown",
   "metadata": {
    "application/vnd.databricks.v1+cell": {
     "cellMetadata": {
      "byteLimit": 2048000,
      "rowLimit": 10000
     },
     "inputWidgets": {},
     "nuid": "e550ee35-ac1b-4f22-a0ac-ad8f389ae9ee",
     "showTitle": false,
     "tableResultSettingsMap": {},
     "title": ""
    }
   },
   "source": [
    "# Data Extraction from  Azure Blob Storage"
   ]
  },
  {
   "cell_type": "code",
   "execution_count": 0,
   "metadata": {
    "application/vnd.databricks.v1+cell": {
     "cellMetadata": {
      "byteLimit": 2048000,
      "rowLimit": 10000
     },
     "inputWidgets": {},
     "nuid": "b48f30ac-15d1-4d5d-8c0d-356f9e89dcaa",
     "showTitle": false,
     "tableResultSettingsMap": {},
     "title": ""
    }
   },
   "outputs": [
    {
     "output_type": "stream",
     "name": "stdout",
     "output_type": "stream",
     "text": [
      "+----------------+----+--------------------+----+------+--------------------+-------+-----------+---------------------------+--------------------+\n|Visualization ID|Mode|           Statistic|Year| Value|               Units|Percent|Fiscal Year|% Change from Previous Year|Statistic Short Name|\n+----------------+----+--------------------+----+------+--------------------+-------+-----------+---------------------------+--------------------+\n|        07_03_01|null|      Electric Power|1960|240.97|Million Barrels p...|   null|       1960|                       null|Petroleum Consump...|\n|        07_03_01|null|          Industrial|1960|   2.7|Million Barrels p...|   null|       1960|                       null|Petroleum Consump...|\n|        07_03_01|null|Residential and C...|1960|   1.7|Million Barrels p...|   null|       1960|                       null|Petroleum Consump...|\n|        07_03_01|null|      Transportation|1960|   5.1|Million Barrels p...|   null|       1960|                       null|Petroleum Consump...|\n|        07_01_01|null|          Commercial|1960|   2.7|     Quadrillion Btu|   null|       1960|                       null|  Energy Consumption|\n|        07_01_01|null|          Industrial|1960|  16.9|     Quadrillion Btu|   null|       1960|                       null|  Energy Consumption|\n|        07_01_01|null|         Residential|1960|   6.7|     Quadrillion Btu|   null|       1960|                       null|  Energy Consumption|\n|        07_01_01|null|      Transportation|1960|  10.6|     Quadrillion Btu|   null|       1960|                       null|  Energy Consumption|\n|        07_03_01|null|      Electric Power|1961| 243.6|Million Barrels p...|   null|       1961|                       null|Petroleum Consump...|\n|        07_03_01|null|          Industrial|1961|   2.7|Million Barrels p...|   null|       1961|                       null|Petroleum Consump...|\n+----------------+----+--------------------+----+------+--------------------+-------+-----------+---------------------------+--------------------+\nonly showing top 10 rows\n\n+------------+---------+---------+----------------+--------+--------------------+------+--------+---------+--------------------+\n|   Port Name|    State|Port Code|          Border|    Date|             Measure| Value|Latitude|Longitude|               Point|\n+------------+---------+---------+----------------+--------+--------------------+------+--------+---------+--------------------+\n|     Jackman|    Maine|     0104|US-Canada Border|Jan 2024|              Trucks|  6556|  45.806|  -70.397|POINT (-70.396722...|\n|    Porthill|    Idaho|     3308|US-Canada Border|Apr 2024|              Trucks|    98|  49.000| -116.499|POINT (-116.49925...|\n|    San Luis|  Arizona|     2608|US-Mexico Border|Apr 2024|               Buses|    10|  32.485| -114.782|POINT (-114.78222...|\n|Willow Creek|  Montana|     3325|US-Canada Border|Jan 2024|         Pedestrians|     2|  49.000| -109.731|POINT (-109.73133...|\n|     Warroad|Minnesota|     3423|US-Canada Border|Jan 2024|Personal Vehicle ...|  9266|  48.999|  -95.377|POINT (-95.376555...|\n|    Whitlash|  Montana|     3321|US-Canada Border|Jan 2024|   Personal Vehicles|    29|  48.997| -111.258|POINT (-111.25791...|\n|      Ysleta|    Texas|     2401|US-Mexico Border|Jan 2024|Personal Vehicle ...|521714|  31.673| -106.335|POINT (-106.33544...|\n|     Warroad|Minnesota|     3423|US-Canada Border|Jan 2024|              Trucks|   837|  48.999|  -95.377|POINT (-95.376555...|\n|   Wildhorse|  Montana|     3323|US-Canada Border|Jan 2024|              Trucks|    20|  48.999| -110.215|POINT (-110.21508...|\n|   Wildhorse|  Montana|     3323|US-Canada Border|Jan 2024|Personal Vehicle ...|   965|  48.999| -110.215|POINT (-110.21508...|\n+------------+---------+---------+----------------+--------+--------------------+------+--------+---------+--------------------+\nonly showing top 10 rows\n\n+-------------+-------+------------------+-------------+--------------+------+----------+--------------+------------+--------------+---------+\n|   Cargo Type|Port ID|         Port_Name|       Region|Reporting Year| State|Trade Type|         Units|Port Ranking|Percent Change|   Volume|\n+-------------+-------+------------------+-------------+--------------+------+----------+--------------+------------+--------------+---------+\n|    CONTAINER|   4820|Alaska, AK Port of|Pacific Coast|          2016|Alaska|     EMPTY|Container TEUs|          18|   42.91847184|  58059.2|\n|    CONTAINER|   4820|Alaska, AK Port of|Pacific Coast|          2016|Alaska|   EXPORTS|Container TEUs|          18|  -5.893463975| 71169.95|\n|    CONTAINER|   4820|Alaska, AK Port of|Pacific Coast|          2016|Alaska|   IMPORTS|Container TEUs|          18|  -16.02295603| 205662.3|\n|    CONTAINER|   4820|Alaska, AK Port of|Pacific Coast|          2016|Alaska|     TOTAL|Container TEUs|          18|  -7.271842483|334891.45|\n|     DRY BULK|   4820|Alaska, AK Port of|Pacific Coast|          2016|Alaska|  DOMESTIC|    Short Tons|         161|  -10.15539526|  96901.0|\n|     DRY BULK|   4820|Alaska, AK Port of|Pacific Coast|          2016|Alaska|   EXPORTS|    Short Tons|         161|           0.0|      0.0|\n|     DRY BULK|   4820|Alaska, AK Port of|Pacific Coast|          2016|Alaska|   FOREIGN|    Short Tons|         161|  -22.43441927| 128831.0|\n|     DRY BULK|   4820|Alaska, AK Port of|Pacific Coast|          2016|Alaska|   IMPORTS|    Short Tons|         161|  -22.43441927| 128831.0|\n|     DRY BULK|   4820|Alaska, AK Port of|Pacific Coast|          2016|Alaska|     TOTAL|    Short Tons|         161|  -17.60011973| 225732.0|\n|TOTAL TONNAGE|   4820|Alaska, AK Port of|Pacific Coast|          2016|Alaska|  DOMESTIC|    Short Tons|          86|  -10.10739066|2271953.0|\n+-------------+-------+------------------+-------------+--------------+------+----------+--------------+------------+--------------+---------+\nonly showing top 10 rows\n\n"
     ]
    }
   ],
   "source": [
    "path_shipment = \"wasbs://demo-container@datawarehouse11.blob.core.windows.net/Freight_Shipments.csv\"\n",
    "df_shipment = spark.read.csv(path_shipment,inferSchema = True, header= True )\n",
    "df_shipment.show(10)\n",
    "\n",
    "path_border = \"wasbs://demo-container@datawarehouse11.blob.core.windows.net/Border_Crossing.csv\"\n",
    "df_border = spark.read.csv(path_border,inferSchema = True, header= True )\n",
    "df_border.show(10)\n",
    "\n",
    "path_port = \"wasbs://demo-container@datawarehouse11.blob.core.windows.net/Port_Data.csv\"\n",
    "df_port = spark.read.csv(path_port,inferSchema = True, header= True )\n",
    "df_port.show(10)\n",
    "\n"
   ]
  },
  {
   "cell_type": "markdown",
   "metadata": {
    "application/vnd.databricks.v1+cell": {
     "cellMetadata": {
      "byteLimit": 2048000,
      "rowLimit": 10000
     },
     "inputWidgets": {},
     "nuid": "3d381c2f-b50d-47ff-b17f-1a7d8918739a",
     "showTitle": false,
     "tableResultSettingsMap": {},
     "title": ""
    }
   },
   "source": [
    "# SQL Database creation"
   ]
  },
  {
   "cell_type": "code",
   "execution_count": 0,
   "metadata": {
    "application/vnd.databricks.v1+cell": {
     "cellMetadata": {
      "byteLimit": 2048000,
      "rowLimit": 10000
     },
     "inputWidgets": {},
     "nuid": "2327f2af-1da0-4609-8534-e6d184a1d587",
     "showTitle": false,
     "tableResultSettingsMap": {},
     "title": ""
    }
   },
   "outputs": [
    {
     "output_type": "stream",
     "name": "stdout",
     "output_type": "stream",
     "text": [
      "Out[3]: DataFrame[]"
     ]
    }
   ],
   "source": [
    "spark.sql(\"CREATE DATABASE IF NOT EXISTS Logistics_db\")\n",
    "spark.sql(\"USE Logistics_db\")"
   ]
  },
  {
   "cell_type": "markdown",
   "metadata": {
    "application/vnd.databricks.v1+cell": {
     "cellMetadata": {
      "byteLimit": 2048000,
      "rowLimit": 10000
     },
     "inputWidgets": {},
     "nuid": "ffe61918-cc93-4167-9fe2-d09ae3a6badd",
     "showTitle": false,
     "tableResultSettingsMap": {},
     "title": ""
    }
   },
   "source": [
    "#Shipments\n"
   ]
  },
  {
   "cell_type": "markdown",
   "metadata": {
    "application/vnd.databricks.v1+cell": {
     "cellMetadata": {
      "byteLimit": 2048000,
      "rowLimit": 10000
     },
     "inputWidgets": {},
     "nuid": "6860659b-f6f3-462a-81ab-796f21da1677",
     "showTitle": false,
     "tableResultSettingsMap": {},
     "title": ""
    }
   },
   "source": [
    "## Shipments Preprocessing\n",
    "###We remove all freight instances in which the mode of transport was not \n",
    "- Water\n",
    "- Rail\n",
    "- Air and truck-air\n",
    "- Air \n",
    "- Pipeline\n",
    "- Highway"
   ]
  },
  {
   "cell_type": "code",
   "execution_count": 0,
   "metadata": {
    "application/vnd.databricks.v1+cell": {
     "cellMetadata": {
      "byteLimit": 2048000,
      "rowLimit": 10000
     },
     "inputWidgets": {},
     "nuid": "bb11270e-acdf-4330-8b81-018d5dae7836",
     "showTitle": false,
     "tableResultSettingsMap": {},
     "title": ""
    }
   },
   "outputs": [
    {
     "output_type": "stream",
     "name": "stdout",
     "output_type": "stream",
     "text": [
      "Out[4]: 614"
     ]
    }
   ],
   "source": [
    "from pyspark.sql.functions import col, regexp_extract\n",
    "\n",
    "df_shipment_filtered = df_shipment.select(\n",
    "    col(\"Mode\"),\n",
    "    col(\"Statistic\"),\n",
    "    col(\"Year\"),\n",
    "    col(\"Value\"),\n",
    "    col(\"Units\"),\n",
    "    col(\"Statistic Short Name\").alias(\"StatisticShortName\")).filter(\n",
    "        (col(\"Mode\")==\"Water\")  | \n",
    "        (col(\"Mode\")==\"Rail\") | \n",
    "        (col(\"Mode\")==\"Air and truck-air\") | \n",
    "        (col(\"Mode\")==\"Air\") | \n",
    "        (col(\"Mode\")==\"Pipeline\") | \n",
    "        (col(\"Mode\")==\"Highway\"))\n",
    " \n",
    "df_shipment_filtered.count()"
   ]
  },
  {
   "cell_type": "markdown",
   "metadata": {
    "application/vnd.databricks.v1+cell": {
     "cellMetadata": {
      "byteLimit": 2048000,
      "rowLimit": 10000
     },
     "inputWidgets": {},
     "nuid": "50f84119-482e-4351-85a2-385773d241c1",
     "showTitle": false,
     "tableResultSettingsMap": {},
     "title": ""
    }
   },
   "source": [
    "## Shipments Table Creation\n"
   ]
  },
  {
   "cell_type": "code",
   "execution_count": 0,
   "metadata": {
    "application/vnd.databricks.v1+cell": {
     "cellMetadata": {
      "byteLimit": 2048000,
      "rowLimit": 10000
     },
     "inputWidgets": {},
     "nuid": "3a90a7d6-4109-42f5-b316-7e8156e6d734",
     "showTitle": false,
     "tableResultSettingsMap": {},
     "title": ""
    }
   },
   "outputs": [],
   "source": [
    "\n",
    "df_shipment_filtered.write.mode(\"overwrite\").saveAsTable(\"Logistics_db.Shipments\")\n"
   ]
  },
  {
   "cell_type": "markdown",
   "metadata": {
    "application/vnd.databricks.v1+cell": {
     "cellMetadata": {
      "byteLimit": 2048000,
      "rowLimit": 10000
     },
     "inputWidgets": {},
     "nuid": "58ff0b81-1220-4b47-87e4-aabc36093bc3",
     "showTitle": false,
     "tableResultSettingsMap": {},
     "title": ""
    }
   },
   "source": [
    "# Border"
   ]
  },
  {
   "cell_type": "markdown",
   "metadata": {
    "application/vnd.databricks.v1+cell": {
     "cellMetadata": {
      "byteLimit": 2048000,
      "rowLimit": 10000
     },
     "inputWidgets": {},
     "nuid": "6bd9a554-95cf-4dca-9ab0-24f5a62f4d55",
     "showTitle": false,
     "tableResultSettingsMap": {},
     "title": ""
    }
   },
   "source": [
    "## Border Preprocessing\n",
    "### We will remove the column 'Point' since it the information can be infered from Latitude and Longitude "
   ]
  },
  {
   "cell_type": "code",
   "execution_count": 0,
   "metadata": {
    "application/vnd.databricks.v1+cell": {
     "cellMetadata": {
      "byteLimit": 2048000,
      "rowLimit": 10000
     },
     "inputWidgets": {},
     "nuid": "4c239852-7811-4344-a0a2-ab23d514b9f7",
     "showTitle": false,
     "tableResultSettingsMap": {},
     "title": ""
    }
   },
   "outputs": [
    {
     "output_type": "stream",
     "name": "stdout",
     "output_type": "stream",
     "text": [
      "Out[6]: 390380"
     ]
    }
   ],
   "source": [
    "from pyspark.sql.functions import length\n",
    "\n",
    "df_border_filter = df_border.select(\n",
    "    col(\"Port Name\").alias(\"PortName\"),\n",
    "    col(\"State\"),\n",
    "    col(\"Port Code\").alias(\"PortCode\"),\n",
    "    col(\"Border\"),\n",
    "    col(\"Date\"),\n",
    "    col(\"Measure\"),\n",
    "    col(\"Value\"),\n",
    "    col(\"Latitude\"),\n",
    "    col(\"Longitude\")).filter(\n",
    "        col(\"Port Name\").isNotNull() &\n",
    "        col(\"State\").isNotNull() &\n",
    "        col(\"Port Code\").isNotNull() &\n",
    "        col(\"Border\").isNotNull() &\n",
    "        col(\"Date\").isNotNull() &\n",
    "        col(\"Measure\").isNotNull() & \n",
    "        col(\"Value\").isNotNull() & \n",
    "        col(\"Latitude\").isNotNull() &\n",
    "        col(\"Longitude\").isNotNull() &\n",
    "         # Ensure 'State' and 'Border' do not contain numbers\n",
    "        col(\"State\").rlike(\"^[^0-9]*$\") &\n",
    "        col(\"Border\").rlike(\"^[^0-9]*$\") &\n",
    "        \n",
    "        # Ensure 'Date' contains at least one four-digit number\n",
    "        col(\"Date\").rlike(\".*\\\\d{4}.*\") &\n",
    "\n",
    "        (length(col(\"Port Name\")) > 4)\n",
    "        )\n",
    "df_border_filter.count()"
   ]
  },
  {
   "cell_type": "code",
   "execution_count": 0,
   "metadata": {
    "application/vnd.databricks.v1+cell": {
     "cellMetadata": {
      "byteLimit": 2048000,
      "rowLimit": 10000
     },
     "inputWidgets": {},
     "nuid": "9a7ac010-2306-41f3-a10e-c6bc85a834f4",
     "showTitle": false,
     "tableResultSettingsMap": {},
     "title": ""
    }
   },
   "outputs": [
    {
     "output_type": "stream",
     "name": "stdout",
     "output_type": "stream",
     "text": [
      "+------------+---------+--------+----------------+--------+--------------------+------+--------+---------+\n|    PortName|    State|PortCode|          Border|    Date|             Measure| Value|Latitude|Longitude|\n+------------+---------+--------+----------------+--------+--------------------+------+--------+---------+\n|     Jackman|    Maine|    0104|US-Canada Border|Jan 2024|              Trucks|  6556|  45.806|  -70.397|\n|    Porthill|    Idaho|    3308|US-Canada Border|Apr 2024|              Trucks|    98|  49.000| -116.499|\n|    San Luis|  Arizona|    2608|US-Mexico Border|Apr 2024|               Buses|    10|  32.485| -114.782|\n|Willow Creek|  Montana|    3325|US-Canada Border|Jan 2024|         Pedestrians|     2|  49.000| -109.731|\n|     Warroad|Minnesota|    3423|US-Canada Border|Jan 2024|Personal Vehicle ...|  9266|  48.999|  -95.377|\n|    Whitlash|  Montana|    3321|US-Canada Border|Jan 2024|   Personal Vehicles|    29|  48.997| -111.258|\n|      Ysleta|    Texas|    2401|US-Mexico Border|Jan 2024|Personal Vehicle ...|521714|  31.673| -106.335|\n|     Warroad|Minnesota|    3423|US-Canada Border|Jan 2024|              Trucks|   837|  48.999|  -95.377|\n|   Wildhorse|  Montana|    3323|US-Canada Border|Jan 2024|              Trucks|    20|  48.999| -110.215|\n|   Wildhorse|  Montana|    3323|US-Canada Border|Jan 2024|Personal Vehicle ...|   965|  48.999| -110.215|\n+------------+---------+--------+----------------+--------+--------------------+------+--------+---------+\nonly showing top 10 rows\n\n"
     ]
    }
   ],
   "source": [
    "df_border_filter.show(10)"
   ]
  },
  {
   "cell_type": "markdown",
   "metadata": {
    "application/vnd.databricks.v1+cell": {
     "cellMetadata": {
      "byteLimit": 2048000,
      "rowLimit": 10000
     },
     "inputWidgets": {},
     "nuid": "5f6c33ca-a247-4c63-9e84-fa0a01735f3a",
     "showTitle": false,
     "tableResultSettingsMap": {},
     "title": ""
    }
   },
   "source": [
    "## Border Table Creation\n"
   ]
  },
  {
   "cell_type": "code",
   "execution_count": 0,
   "metadata": {
    "application/vnd.databricks.v1+cell": {
     "cellMetadata": {
      "byteLimit": 2048000,
      "rowLimit": 10000
     },
     "inputWidgets": {},
     "nuid": "5ab0af08-42a5-4e91-a7f1-5c52414646f4",
     "showTitle": false,
     "tableResultSettingsMap": {},
     "title": ""
    }
   },
   "outputs": [],
   "source": [
    "df_border_filter.write.mode(\"overwrite\").saveAsTable(\"Logistics_db.Borders\")"
   ]
  },
  {
   "cell_type": "markdown",
   "metadata": {
    "application/vnd.databricks.v1+cell": {
     "cellMetadata": {
      "byteLimit": 2048000,
      "rowLimit": 10000
     },
     "inputWidgets": {},
     "nuid": "ce4ed6c6-9642-4642-a0d1-55cafd8fb81f",
     "showTitle": false,
     "tableResultSettingsMap": {},
     "title": ""
    }
   },
   "source": [
    "# Port"
   ]
  },
  {
   "cell_type": "markdown",
   "metadata": {
    "application/vnd.databricks.v1+cell": {
     "cellMetadata": {
      "byteLimit": 2048000,
      "rowLimit": 10000
     },
     "inputWidgets": {},
     "nuid": "32003d67-13ac-4370-b9b7-efa4b122daa4",
     "showTitle": false,
     "tableResultSettingsMap": {},
     "title": ""
    }
   },
   "source": [
    "## Port Preprocessing"
   ]
  },
  {
   "cell_type": "code",
   "execution_count": 0,
   "metadata": {
    "application/vnd.databricks.v1+cell": {
     "cellMetadata": {
      "byteLimit": 2048000,
      "rowLimit": 10000
     },
     "inputWidgets": {},
     "nuid": "1c65d2ab-6719-4265-9ca8-dcb4f0447c72",
     "showTitle": false,
     "tableResultSettingsMap": {},
     "title": ""
    }
   },
   "outputs": [
    {
     "output_type": "stream",
     "name": "stdout",
     "output_type": "stream",
     "text": [
      "Out[9]: 3490"
     ]
    }
   ],
   "source": [
    "df_port_filtered = df_port.select(\n",
    "    col(\"Cargo Type\").alias(\"CargoType\"),\n",
    "    col(\"Port ID\").alias(\"PortID\"),\n",
    "    col(\"Port_Name\").alias(\"PortName\"),\n",
    "    col(\"Region\"),\n",
    "    col(\"Reporting Year\").alias(\"ReportingYear\"),\n",
    "    col(\"State\"),\n",
    "    col(\"Trade Type\").alias(\"TradeType\"),\n",
    "    col(\"Units\"),\n",
    "    col(\"Port Ranking\").alias(\"PortRanking\"),\n",
    "    col(\"Percent Change\").alias(\"PercentChange\"),\n",
    "    col(\"Volume\")\n",
    "    ).filter(\n",
    "        col(\"Cargo Type\").isNotNull() &\n",
    "        col(\"Port ID\").isNotNull() &\n",
    "        col(\"Port_Name\").isNotNull() &\n",
    "        col(\"Region\").isNotNull() &\n",
    "        col(\"Reporting Year\").isNotNull() &\n",
    "        col(\"State\").isNotNull() & \n",
    "        col(\"Trade Type\").isNotNull() &\n",
    "        col(\"Units\").isNotNull() &\n",
    "        col(\"Port Ranking\").isNotNull() &\n",
    "        col(\"Percent Change\").isNotNull() &\n",
    "        col(\"Volume\").isNotNull()\n",
    "    )\n",
    "\n",
    "df_port_filtered.count()"
   ]
  },
  {
   "cell_type": "markdown",
   "metadata": {
    "application/vnd.databricks.v1+cell": {
     "cellMetadata": {
      "byteLimit": 2048000,
      "rowLimit": 10000
     },
     "inputWidgets": {},
     "nuid": "d97d619a-2b4a-44ac-8d7c-8867df2fa1c3",
     "showTitle": false,
     "tableResultSettingsMap": {},
     "title": ""
    }
   },
   "source": [
    "## Port Table Creation"
   ]
  },
  {
   "cell_type": "code",
   "execution_count": 0,
   "metadata": {
    "application/vnd.databricks.v1+cell": {
     "cellMetadata": {
      "byteLimit": 2048000,
      "rowLimit": 10000
     },
     "inputWidgets": {},
     "nuid": "39b74613-307d-43fe-8f73-8ef49be26657",
     "showTitle": false,
     "tableResultSettingsMap": {},
     "title": ""
    }
   },
   "outputs": [],
   "source": [
    "df_port_filtered.write.mode(\"overwrite\").saveAsTable(\"Logistics_db.Ports\")\n"
   ]
  },
  {
   "cell_type": "code",
   "execution_count": 0,
   "metadata": {
    "application/vnd.databricks.v1+cell": {
     "cellMetadata": {
      "byteLimit": 2048000,
      "rowLimit": 10000
     },
     "inputWidgets": {},
     "nuid": "3317a5a1-75bf-4a8c-b57b-b78148b00d98",
     "showTitle": false,
     "tableResultSettingsMap": {},
     "title": ""
    }
   },
   "outputs": [],
   "source": [
    "df_port_filtered.select(\"State\").distinct().show(10)\n"
   ]
  }
 ],
 "metadata": {
  "application/vnd.databricks.v1+notebook": {
   "computePreferences": null,
   "dashboards": [],
   "environmentMetadata": {
    "base_environment": "",
    "environment_version": "1"
   },
   "inputWidgetPreferences": null,
   "language": "python",
   "notebookMetadata": {
    "mostRecentlyExecutedCommandWithImplicitDF": {
     "commandId": 98610564921375,
     "dataframes": [
      "_sqldf"
     ]
    },
    "pythonIndentUnit": 4
   },
   "notebookName": "Data Extraction",
   "widgets": {}
  }
 },
 "nbformat": 4,
 "nbformat_minor": 0
}