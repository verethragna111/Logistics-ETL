{
 "cells": [
  {
   "cell_type": "code",
   "execution_count": 0,
   "metadata": {
    "application/vnd.databricks.v1+cell": {
     "cellMetadata": {
      "byteLimit": 2048000,
      "implicitDf": true,
      "rowLimit": 10000
     },
     "inputWidgets": {},
     "nuid": "af424f36-b83c-48f7-bc16-a45436234ec3",
     "showTitle": false,
     "tableResultSettingsMap": {},
     "title": ""
    }
   },
   "outputs": [
    {
     "output_type": "display_data",
     "data": {
      "text/html": [
       "<style scoped>\n",
       "  .table-result-container {\n",
       "    max-height: 300px;\n",
       "    overflow: auto;\n",
       "  }\n",
       "  table, th, td {\n",
       "    border: 1px solid black;\n",
       "    border-collapse: collapse;\n",
       "  }\n",
       "  th, td {\n",
       "    padding: 5px;\n",
       "  }\n",
       "  th {\n",
       "    text-align: left;\n",
       "  }\n",
       "</style><div class='table-result-container'><table class='table-result'><thead style='background-color: white'><tr><th>num_affected_rows</th><th>num_inserted_rows</th></tr></thead><tbody></tbody></table></div>"
      ]
     },
     "metadata": {
      "application/vnd.databricks.v1+output": {
       "addedWidgets": {},
       "aggData": [],
       "aggError": "",
       "aggOverflow": false,
       "aggSchema": [],
       "aggSeriesLimitReached": false,
       "aggType": "",
       "arguments": {},
       "columnCustomDisplayInfos": {},
       "data": [],
       "datasetInfos": [],
       "dbfsResultPath": null,
       "isJsonSchema": true,
       "metadata": {},
       "overflow": false,
       "plotOptions": {
        "customPlotOptions": {},
        "displayType": "table",
        "pivotAggregation": null,
        "pivotColumns": null,
        "xColumns": null,
        "yColumns": null
       },
       "removedWidgets": [],
       "schema": [
        {
         "metadata": "{}",
         "name": "num_affected_rows",
         "type": "\"long\""
        },
        {
         "metadata": "{}",
         "name": "num_inserted_rows",
         "type": "\"long\""
        }
       ],
       "type": "table"
      }
     },
     "output_type": "display_data"
    }
   ],
   "source": [
    "%sql\n",
    "\n",
    "USE Logistics_db;\n",
    "\n",
    "-- Drop and recreate Dim_S\n",
    "CREATE OR REPLACE TABLE Dim_Ship USING DELTA AS \n",
    "SELECT `Year` AS ShipmentsYear, Mode, Units, Value, Statistic AS StatisticType \n",
    "FROM Shipments;\n",
    "\n",
    "-- Drop and recreate Dim_B\n",
    "CREATE OR REPLACE TABLE Dim_Bord USING DELTA AS \n",
    "SELECT PortName, State, Border, Measure, PortCode, `Date` AS BorderYear \n",
    "FROM borders;\n",
    "\n",
    "-- Drop and recreate Dim_P\n",
    "CREATE OR REPLACE TABLE Dim_Potr USING DELTA AS \n",
    "SELECT DISTINCT PortID, PortName, CargoType, Region, TradeType, PortRanking, PercentChange \n",
    "FROM ports;\n",
    "\n",
    "CREATE OR REPLACE TABLE Facts_Trade AS \n",
    "SELECT \n",
    "    p.PortID, \n",
    "    s.ShipmentsYear,  \n",
    "    p.TradeType, \n",
    "    p.PortRanking, \n",
    "    p.PercentChange, \n",
    "    s.Units, \n",
    "    b.Border\n",
    "FROM Dim_Bord b\n",
    "JOIN Dim_Ship s ON RIGHT(b.BorderYear, 4) = s.ShipmentsYear\n",
    "JOIN Dim_Potr p ON p.PortID = b.PortCode;\n",
    "\n",
    "CREATE OR REPLACE TABLE Facts_Port_Borders USING DELTA AS \n",
    "SELECT \n",
    "    b.PortName,\n",
    "    b.State,\n",
    "    b.Border,\n",
    "    p.Region,\n",
    "    p.PortRanking\n",
    "FROM Dim_Bord b JOIN  Dim_Potr p on b.PortCode = p.PortID;\n",
    "\n"
   ]
  }
 ],
 "metadata": {
  "application/vnd.databricks.v1+notebook": {
   "computePreferences": null,
   "dashboards": [],
   "environmentMetadata": {
    "base_environment": "",
    "environment_version": "1"
   },
   "inputWidgetPreferences": null,
   "language": "python",
   "notebookMetadata": {
    "mostRecentlyExecutedCommandWithImplicitDF": {
     "commandId": 98610564921377,
     "dataframes": [
      "_sqldf"
     ]
    },
    "pythonIndentUnit": 4
   },
   "notebookName": "Data Transformation",
   "widgets": {}
  }
 },
 "nbformat": 4,
 "nbformat_minor": 0
}