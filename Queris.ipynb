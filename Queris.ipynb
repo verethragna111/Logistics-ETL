{
 "cells": [
  {
   "cell_type": "markdown",
   "metadata": {
    "application/vnd.databricks.v1+cell": {
     "cellMetadata": {
      "byteLimit": 2048000,
      "rowLimit": 10000
     },
     "inputWidgets": {},
     "nuid": "3ce72b40-c5e1-4f5f-a971-c520270bf4e8",
     "showTitle": false,
     "tableResultSettingsMap": {},
     "title": ""
    }
   },
   "source": [
    "## Top 5 ports and years \n",
    "### Highlights the ports that handle the largest trade volumes, guiding logistics companies in selecting optimal shipping hubs."
   ]
  },
  {
   "cell_type": "code",
   "execution_count": 0,
   "metadata": {
    "application/vnd.databricks.v1+cell": {
     "cellMetadata": {
      "byteLimit": 2048000,
      "implicitDf": true,
      "rowLimit": 10000
     },
     "inputWidgets": {},
     "nuid": "092d573f-8ae4-41f3-88c3-f4732136e271",
     "showTitle": false,
     "tableResultSettingsMap": {},
     "title": ""
    },
    "jupyter": {
     "outputs_hidden": true
    }
   },
   "outputs": [
    {
     "output_type": "display_data",
     "data": {
      "text/html": [
       "<style scoped>\n",
       "  .table-result-container {\n",
       "    max-height: 300px;\n",
       "    overflow: auto;\n",
       "  }\n",
       "  table, th, td {\n",
       "    border: 1px solid black;\n",
       "    border-collapse: collapse;\n",
       "  }\n",
       "  th, td {\n",
       "    padding: 5px;\n",
       "  }\n",
       "  th {\n",
       "    text-align: left;\n",
       "  }\n",
       "</style><div class='table-result-container'><table class='table-result'><thead style='background-color: white'><tr><th>PortName</th><th>Region</th><th>ShipmentsYear</th><th>TotalUnits</th></tr></thead><tbody><tr><td>Port Freeport, TX</td><td>Gulf Coast & Mississippi River</td><td>2010</td><td>2.2299682359954872E16</td></tr><tr><td>Port Freeport, TX</td><td>Gulf Coast & Mississippi River</td><td>2020</td><td>1.6697153725209068E16</td></tr><tr><td>Port Freeport, TX</td><td>Gulf Coast & Mississippi River</td><td>2009</td><td>2.53819737448704E14</td></tr><tr><td>Port Freeport, TX</td><td>Gulf Coast & Mississippi River</td><td>2019</td><td>2.47117269096786E14</td></tr><tr><td>Port Freeport, TX</td><td>Gulf Coast & Mississippi River</td><td>2018</td><td>2.23600771461888E14</td></tr></tbody></table></div>"
      ]
     },
     "metadata": {
      "application/vnd.databricks.v1+output": {
       "addedWidgets": {},
       "aggData": [],
       "aggError": "",
       "aggOverflow": false,
       "aggSchema": [],
       "aggSeriesLimitReached": false,
       "aggType": "",
       "arguments": {},
       "columnCustomDisplayInfos": {},
       "data": [
        [
         "Port Freeport, TX",
         "Gulf Coast & Mississippi River",
         "2010",
         2.2299682359954872E16
        ],
        [
         "Port Freeport, TX",
         "Gulf Coast & Mississippi River",
         "2020",
         1.6697153725209068E16
        ],
        [
         "Port Freeport, TX",
         "Gulf Coast & Mississippi River",
         "2009",
         2.53819737448704E14
        ],
        [
         "Port Freeport, TX",
         "Gulf Coast & Mississippi River",
         "2019",
         2.47117269096786E14
        ],
        [
         "Port Freeport, TX",
         "Gulf Coast & Mississippi River",
         "2018",
         2.23600771461888E14
        ]
       ],
       "datasetInfos": [],
       "dbfsResultPath": null,
       "isJsonSchema": true,
       "metadata": {},
       "overflow": false,
       "plotOptions": {
        "customPlotOptions": {},
        "displayType": "table",
        "pivotAggregation": null,
        "pivotColumns": null,
        "xColumns": null,
        "yColumns": null
       },
       "removedWidgets": [],
       "schema": [
        {
         "metadata": "{}",
         "name": "PortName",
         "type": "\"string\""
        },
        {
         "metadata": "{}",
         "name": "Region",
         "type": "\"string\""
        },
        {
         "metadata": "{}",
         "name": "ShipmentsYear",
         "type": "\"string\""
        },
        {
         "metadata": "{}",
         "name": "TotalUnits",
         "type": "\"double\""
        }
       ],
       "type": "table"
      }
     },
     "output_type": "display_data"
    }
   ],
   "source": [
    "%sql\n",
    "use Logistics_db;\n",
    "\n",
    "SELECT \n",
    "    p.PortName,\n",
    "    p.Region,\n",
    "    s.ShipmentsYear,\n",
    "    SUM(s.Value) AS TotalUnits\n",
    "FROM Facts_Trade f\n",
    "JOIN Dim_Potr p ON f.PortID = p.PortID\n",
    "JOIN Dim_Ship s ON f.ShipmentsYear = s.ShipmentsYear\n",
    "WHERE s.Units = 'Number'\n",
    "GROUP BY p.PortName, p.Region, s.ShipmentsYear\n",
    "ORDER BY TotalUnits DESC\n",
    "LIMIT 5;\n"
   ]
  },
  {
   "cell_type": "markdown",
   "metadata": {
    "application/vnd.databricks.v1+cell": {
     "cellMetadata": {
      "byteLimit": 2048000,
      "rowLimit": 10000
     },
     "inputWidgets": {},
     "nuid": "0d9c5a47-10b8-4294-8091-985d4c140757",
     "showTitle": false,
     "tableResultSettingsMap": {},
     "title": ""
    }
   },
   "source": [
    "## Total Trade Volume and Port Activity by Border\n",
    "### Borders with the highest trade volume indicate critical trade routes, helping us see the risks in our supply chains."
   ]
  },
  {
   "cell_type": "code",
   "execution_count": 0,
   "metadata": {
    "application/vnd.databricks.v1+cell": {
     "cellMetadata": {
      "byteLimit": 2048000,
      "implicitDf": true,
      "rowLimit": 10000
     },
     "inputWidgets": {},
     "nuid": "e3da8b8e-a13e-408a-ad86-0997406d16c2",
     "showTitle": false,
     "tableResultSettingsMap": {},
     "title": ""
    },
    "jupyter": {
     "outputs_hidden": true
    }
   },
   "outputs": [
    {
     "output_type": "display_data",
     "data": {
      "text/html": [
       "<style scoped>\n",
       "  .ansiout {\n",
       "    display: block;\n",
       "    unicode-bidi: embed;\n",
       "    white-space: pre-wrap;\n",
       "    word-wrap: break-word;\n",
       "    word-break: break-all;\n",
       "    font-family: \"Menlo\", \"Monaco\", \"Consolas\", \"Ubuntu Mono\", \"Source Code Pro\", monospace;\n",
       "    font-size: 13px;\n",
       "    color: #555;\n",
       "    margin-left: 4px;\n",
       "    line-height: 19px;\n",
       "  }\n",
       "</style>"
      ]
     },
     "metadata": {
      "application/vnd.databricks.v1+output": {
       "arguments": {},
       "data": "",
       "errorSummary": "Cancelled",
       "errorTraceType": "html",
       "metadata": {},
       "type": "ipynbError"
      }
     },
     "output_type": "display_data"
    }
   ],
   "source": [
    "%sql \n",
    "\n",
    "%sql\n",
    "SELECT \n",
    "    DATE_FORMAT(s.ShipmentsYear, 'yyyy-MM') AS Month,\n",
    "    SUM(s.Units) AS MonthlyTradeVolume\n",
    "FROM Facts_Trade f\n",
    "JOIN Dim_Ship s ON f.ShipmentsYear = s.ShipmentsYear\n",
    "JOIN Dim_Potr p ON f.PortID = p.PortID\n",
    "WHERE p.PortName = 'Houston Port' \n",
    "ORDER BY Month ASC;\n"
   ]
  },
  {
   "cell_type": "markdown",
   "metadata": {
    "application/vnd.databricks.v1+cell": {
     "cellMetadata": {
      "byteLimit": 2048000,
      "rowLimit": 10000
     },
     "inputWidgets": {},
     "nuid": "b22a283a-3155-4fcb-98ed-27bacdb4edf3",
     "showTitle": false,
     "tableResultSettingsMap": {},
     "title": ""
    }
   },
   "source": [
    "## Yearly Trade Trends and Ranking for Los Angeles Port\n",
    "### Tracks if the port’s ranking is improving or declining, which can help us see the historic tren of LAs port\n"
   ]
  },
  {
   "cell_type": "code",
   "execution_count": 0,
   "metadata": {
    "application/vnd.databricks.v1+cell": {
     "cellMetadata": {
      "byteLimit": 2048000,
      "implicitDf": true,
      "rowLimit": 10000
     },
     "inputWidgets": {},
     "nuid": "8d5cf975-d0fa-415b-8ba5-5eb21c9cb852",
     "showTitle": false,
     "tableResultSettingsMap": {},
     "title": ""
    },
    "jupyter": {
     "outputs_hidden": true
    }
   },
   "outputs": [
    {
     "output_type": "display_data",
     "data": {
      "text/html": [
       "<style scoped>\n",
       "  .ansiout {\n",
       "    display: block;\n",
       "    unicode-bidi: embed;\n",
       "    white-space: pre-wrap;\n",
       "    word-wrap: break-word;\n",
       "    word-break: break-all;\n",
       "    font-family: \"Menlo\", \"Monaco\", \"Consolas\", \"Ubuntu Mono\", \"Source Code Pro\", monospace;\n",
       "    font-size: 13px;\n",
       "    color: #555;\n",
       "    margin-left: 4px;\n",
       "    line-height: 19px;\n",
       "  }\n",
       "</style>"
      ]
     },
     "metadata": {
      "application/vnd.databricks.v1+output": {
       "arguments": {},
       "data": "",
       "errorSummary": "Cancelled",
       "errorTraceType": "html",
       "metadata": {},
       "type": "ipynbError"
      }
     },
     "output_type": "display_data"
    }
   ],
   "source": [
    "%sql\n",
    "SELECT \n",
    "    p.PortName,\n",
    "    s.ShipmentsYear,\n",
    "    p.PortRanking,\n",
    "    SUM(s.Units) AS TotalTradeVolume,\n",
    "    p.PercentChange AS YearlyChange\n",
    "FROM Facts_Trade f\n",
    "JOIN Dim_Potr p ON f.PortID = p.PortID\n",
    "JOIN Dim_Ship s ON f.ShipmentsYear = s.ShipmentsYear\n",
    "JOIN Dim_Bord b ON p.PortName = b.PortName\n",
    "WHERE b.State = 'California'\n",
    "GROUP BY p.PortName, s.ShipmentsYear, p.PortRanking, p.PercentChange\n",
    "ORDER BY s.ShipmentsYear ASC;\n"
   ]
  }
 ],
 "metadata": {
  "application/vnd.databricks.v1+notebook": {
   "computePreferences": null,
   "dashboards": [],
   "environmentMetadata": {
    "base_environment": "",
    "environment_version": "1"
   },
   "inputWidgetPreferences": null,
   "language": "python",
   "notebookMetadata": {
    "mostRecentlyExecutedCommandWithImplicitDF": {
     "commandId": 1314778553467254,
     "dataframes": [
      "_sqldf"
     ]
    },
    "pythonIndentUnit": 4
   },
   "notebookName": "Queris",
   "widgets": {}
  }
 },
 "nbformat": 4,
 "nbformat_minor": 0
}